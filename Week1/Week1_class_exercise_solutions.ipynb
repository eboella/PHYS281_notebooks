{
 "cells": [
  {
   "cell_type": "markdown",
   "id": "native-wagner",
   "metadata": {},
   "source": [
    "# Week 1"
   ]
  },
  {
   "cell_type": "markdown",
   "id": "original-pencil",
   "metadata": {},
   "source": [
    "Let's define a function called hello that prints\n",
    "<br>\n",
    "`Hello, my name is <name> and I am <age> years old.`\n",
    "<br>\n",
    "Name and age will be passed as argument of the function."
   ]
  },
  {
   "cell_type": "code",
   "execution_count": 1,
   "id": "cubic-guess",
   "metadata": {},
   "outputs": [],
   "source": [
    "def hello(name, age):\n",
    "    \n",
    "    \"\"\"\n",
    "    Print a sentence.\n",
    "    \n",
    "    Paramters\n",
    "    ---------\n",
    "    name: string\n",
    "        string containing your name\n",
    "    age: integer\n",
    "        integer number indicating your age\n",
    "    \"\"\"\n",
    "    \n",
    "    print(\"Hello, my name is {} and I am {} years old.\".format(name,age))"
   ]
  },
  {
   "cell_type": "code",
   "execution_count": 2,
   "id": "proved-knife",
   "metadata": {},
   "outputs": [
    {
     "name": "stdout",
     "output_type": "stream",
     "text": [
      "Hello, my name is Elisabetta and I am 70 years old.\n"
     ]
    }
   ],
   "source": [
    "first_name = \"Elisabetta\"\n",
    "years = 70\n",
    "hello(first_name, years)"
   ]
  },
  {
   "cell_type": "markdown",
   "id": "otherwise-battlefield",
   "metadata": {},
   "source": [
    "Now define a function called hello2 that prints\n",
    "<br>\n",
    "`Hi!`\n",
    "<br>\n",
    "`I am studing <subject> at Lancaster University.`\n",
    "<br>\n",
    "The function will take the name of your degree scheme as argument. Note that the sentence must be split in two lines."
   ]
  },
  {
   "cell_type": "code",
   "execution_count": 3,
   "id": "sharp-appearance",
   "metadata": {},
   "outputs": [
    {
     "name": "stdout",
     "output_type": "stream",
     "text": [
      "Hi!\n",
      "I am studing Theoretical Physics with Maths at Lancaster University\n"
     ]
    }
   ],
   "source": [
    "def hello2(subject):\n",
    "    \n",
    "    \"\"\"\n",
    "    Print a sentence.\n",
    "    \n",
    "    Paramters\n",
    "    ---------\n",
    "    subject: string\n",
    "        string containing thhe name of your degree\n",
    "    \"\"\"\n",
    "    \n",
    "    print(\"Hi!\\nI am studing {} at Lancaster University\".format(subject))\n",
    "\n",
    "degree = \"Theoretical Physics with Maths\"\n",
    "hello2(degree)"
   ]
  },
  {
   "cell_type": "markdown",
   "id": "dutch-philadelphia",
   "metadata": {},
   "source": [
    "Let's define a function called trigCalculation that takes as argument the sine of an angle, compute the angle and __return__ the angle and the cosine of that angle. Finally let's print the results with only 3 decimal such that we can inspect them."
   ]
  },
  {
   "cell_type": "code",
   "execution_count": 4,
   "id": "twelve-honduras",
   "metadata": {},
   "outputs": [],
   "source": [
    "import math\n",
    "def trigCalculation(sin_theta):\n",
    "    \n",
    "    \"\"\"\n",
    "    Compute an angle and the cosine of the angle.\n",
    "    \n",
    "    Paramters\n",
    "    ---------\n",
    "    sin_theta: float\n",
    "        sine of an angle\n",
    "        \n",
    "    Returns\n",
    "    -------\n",
    "    theta, cos_theta: float\n",
    "         angle and cosine of the angle\n",
    "    \"\"\"\n",
    "        \n",
    "    theta = math.asin(sin_theta)\n",
    "    cos_theta = math.cos(theta)\n",
    "    return theta, cos_theta"
   ]
  },
  {
   "cell_type": "code",
   "execution_count": 5,
   "id": "dependent-synthetic",
   "metadata": {},
   "outputs": [
    {
     "name": "stdout",
     "output_type": "stream",
     "text": [
      "The arcsin of 1.000 is 1.571 and its cosine is 0.000\n"
     ]
    }
   ],
   "source": [
    "sin_alpha = 1.0\n",
    "alpha, cos_alpha = trigCalculation(sin_alpha)\n",
    "print(\"The arcsin of {0:.3f} is {1:.3f} and its cosine is {2:.3f}\".format(sin_alpha, alpha, cos_alpha))"
   ]
  },
  {
   "cell_type": "markdown",
   "id": "silver-bacteria",
   "metadata": {},
   "source": [
    "Now define a function called myTrigCalculations that computes and returns the cotangent of a given angle passed as an argument."
   ]
  },
  {
   "cell_type": "code",
   "execution_count": 6,
   "id": "supreme-calibration",
   "metadata": {},
   "outputs": [
    {
     "name": "stdout",
     "output_type": "stream",
     "text": [
      "The cotangent of 45 is 1.000.\n"
     ]
    }
   ],
   "source": [
    "import math\n",
    "#We do not realy need this since it is imported before,\n",
    "#but let's import numpy to have a stand alone code.\n",
    "def myTrigCalculations(alpha):\n",
    "    \n",
    "    \"\"\"\n",
    "    Compute the cotangent of an angle.\n",
    "    \n",
    "    Paramters\n",
    "    ---------\n",
    "    alpha: float\n",
    "        angle in radians\n",
    "        \n",
    "    Returns\n",
    "    -------\n",
    "    cotan: float\n",
    "         cotangent of the angle\n",
    "    \"\"\"\n",
    "    \n",
    "    cotan = 1/math.tan(alpha)\n",
    "    return cotan\n",
    "\n",
    "beta_d = 45\n",
    "beta_r = math.radians(beta_d) #math.radians converts degrees to radians\n",
    "print(\"The cotangent of {0:d} is {1:.3f}.\".format(beta_d, myTrigCalculations(beta_r))) "
   ]
  },
  {
   "cell_type": "markdown",
   "id": "incomplete-voluntary",
   "metadata": {},
   "source": [
    "Let's write a small code that goes trough the elements of a list a containing twenty uniformely distributed random numbers between -2 and 1 and create a new list b containing only elements from a that are bigger than 0. Our code will finallly print the new list b and print its length."
   ]
  },
  {
   "cell_type": "code",
   "execution_count": 7,
   "id": "square-ballet",
   "metadata": {},
   "outputs": [
    {
     "name": "stdout",
     "output_type": "stream",
     "text": [
      "The new list b is [0.31396192980023807, 0.24641164761583578, 0.2815921365968763, 0.05607945510339185, 0.8601800385848097, 0.4378628849563406, 0.16526595229539875, 0.7533223675388303, 0.1437273501930716] \n",
      "It's length is  9\n"
     ]
    }
   ],
   "source": [
    "import numpy as np\n",
    "\n",
    "np.random.seed(10)\n",
    "\n",
    "a = []  #empty list a that we need to populate with twenty uniformely distributed random numbers\n",
    "b = []  #empty list b that will contain elements > 0 from a\n",
    "n = 20  #number of elements\n",
    "\n",
    "#creating a list a\n",
    "for i in range(0,n):\n",
    "    num = -2 + (1 - (-2)) * np.random.rand()\n",
    "    a.append(num)\n",
    "\n",
    "#creating a list b\n",
    "for j in range(0,len(a)):\n",
    "    if a[j] > 0:\n",
    "        b.append(a[j])\n",
    "\n",
    "print(\"The new list b is\", b,\"\\nIt's length is \", len(b))"
   ]
  },
  {
   "cell_type": "markdown",
   "id": "together-fellowship",
   "metadata": {},
   "source": [
    "We wanted to learn to use for loop, however using numpy arrays and array syntax would have made our life simpler."
   ]
  },
  {
   "cell_type": "code",
   "execution_count": 8,
   "id": "african-router",
   "metadata": {},
   "outputs": [
    {
     "name": "stdout",
     "output_type": "stream",
     "text": [
      "The new array d is [0.31396193 0.24641165 0.28159214 0.05607946 0.86018004 0.43786288\n",
      " 0.16526595 0.75332237 0.14372735] \n",
      "It's length is  9\n"
     ]
    }
   ],
   "source": [
    "import numpy as np \n",
    "#We do not realy need this since it is imported before,\n",
    "#but let's import numpy to have a stand alone code.\n",
    "\n",
    "np.random.seed(10)\n",
    "\n",
    "#Also remember this cell will \"remember\" the variable defined before, so let's call our array a and b, c and d instead\n",
    "c = -2 + (1 - (-2)) * np.random.rand(20)\n",
    "\n",
    "d = c[c > 0]\n",
    "\n",
    "print(\"The new array d is\", d,\"\\nIt's length is \", len(d))"
   ]
  },
  {
   "cell_type": "markdown",
   "id": "irish-valentine",
   "metadata": {},
   "source": [
    "Why we need this instruction: np.random.seed(10)? What happens if we remove it?"
   ]
  },
  {
   "cell_type": "markdown",
   "id": "shaped-particular",
   "metadata": {},
   "source": [
    "Now write a small code that defines a new list a containing fifty uniformely distributed random numbers between -5 and 5. The code will then call two functions my_ave and my_std, which take the list a as imput and return its average and its standard deviation. Do not use numpy unless for generating random numbers."
   ]
  },
  {
   "cell_type": "code",
   "execution_count": 9,
   "id": "blocked-white",
   "metadata": {},
   "outputs": [
    {
     "name": "stdout",
     "output_type": "stream",
     "text": [
      "The average of the list is 0.018287 and its standard deviation is 2.741103\n"
     ]
    }
   ],
   "source": [
    "import numpy as np\n",
    "\n",
    "def my_ave(arr):\n",
    "    \n",
    "    \"\"\"\n",
    "    Compute the average of a list of floats.\n",
    "    \n",
    "    Paramters\n",
    "    ---------\n",
    "    arr: list of floats\n",
    "        list of numbers\n",
    "        \n",
    "    Returns\n",
    "    -------\n",
    "    ave: float\n",
    "         average of the values in the array\n",
    "    \"\"\"\n",
    "    \n",
    "    ave = 0 #It is important to initialise the value of the average\n",
    "    \n",
    "    for num in arr:\n",
    "        ave += num\n",
    "        \n",
    "    ave = ave / len(arr)\n",
    "    \n",
    "    return ave\n",
    "\n",
    "def my_std(arr):\n",
    "    \n",
    "    \"\"\"\n",
    "    Compute the average of a list of floats.\n",
    "    \n",
    "    Paramters\n",
    "    ---------\n",
    "    arr: list of floats\n",
    "        list of numbers\n",
    "        \n",
    "    Returns\n",
    "    -------\n",
    "    sigma: float\n",
    "         standard deviation of the values in the array\n",
    "    \"\"\"\n",
    "\n",
    "    mu = my_ave(arr)\n",
    "    \n",
    "    arr2 = [(num - mu)**2 for num in arr]\n",
    "    \n",
    "    sigma = (my_ave(arr2))**0.5\n",
    "    \n",
    "    return sigma\n",
    "\n",
    "np.random.seed(10)\n",
    "\n",
    "my_list = []  #empty list that we need to populate with fifty uniformely distributed random numbers\n",
    "n = 50  #number of elements\n",
    "\n",
    "#creating a list a\n",
    "for i in range(0,n):\n",
    "    num = -5 + (5 - (-5)) * np.random.rand()\n",
    "    my_list.append(num)\n",
    "    \n",
    "mean = my_ave(my_list)\n",
    "standard_deviation = my_std(my_list)\n",
    "\n",
    "print(\"The average of the list is {0:.6f} and its standard deviation is {1:.6f}\".format(mean,standard_deviation))"
   ]
  },
  {
   "cell_type": "markdown",
   "id": "spatial-contents",
   "metadata": {},
   "source": [
    "Now check using inbuilt numpy methods if your code is correct."
   ]
  },
  {
   "cell_type": "code",
   "execution_count": 10,
   "id": "fixed-program",
   "metadata": {},
   "outputs": [
    {
     "name": "stdout",
     "output_type": "stream",
     "text": [
      "The average of the list is 0.018287 and its standard deviation is 2.741103\n"
     ]
    }
   ],
   "source": [
    "my_array = np.array(my_list, dtype=float)\n",
    "mean_np = np.mean(my_array)\n",
    "std_np = np.std(my_array)\n",
    "\n",
    "print(\"The average of the list is {0:.6f} and its standard deviation is {1:.6f}\".format(mean_np,std_np))"
   ]
  }
 ],
 "metadata": {
  "kernelspec": {
   "display_name": "Python 3",
   "language": "python",
   "name": "python3"
  },
  "language_info": {
   "codemirror_mode": {
    "name": "ipython",
    "version": 3
   },
   "file_extension": ".py",
   "mimetype": "text/x-python",
   "name": "python",
   "nbconvert_exporter": "python",
   "pygments_lexer": "ipython3",
   "version": "3.7.3"
  }
 },
 "nbformat": 4,
 "nbformat_minor": 5
}
