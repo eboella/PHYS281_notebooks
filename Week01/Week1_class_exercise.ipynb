{
 "cells": [
  {
   "cell_type": "markdown",
   "id": "native-wagner",
   "metadata": {},
   "source": [
    "# Week 1"
   ]
  },
  {
   "cell_type": "markdown",
   "id": "1e6b3d0f",
   "metadata": {},
   "source": [
    "### Functions and print statements"
   ]
  },
  {
   "cell_type": "markdown",
   "id": "original-pencil",
   "metadata": {},
   "source": [
    "Let's define a function called `hello` that prints\n",
    "<br>\n",
    "`Hello, my name is <name> and I am <age> years old.`\n",
    "<br>\n",
    "The name and age will be passed as arguments of the function."
   ]
  },
  {
   "cell_type": "code",
   "execution_count": null,
   "id": "cubic-guess",
   "metadata": {},
   "outputs": [],
   "source": [
    "def hello(name,age):\n",
    "    \"\"\"\n",
    "    Print a sentence.\n",
    "    \n",
    "    Parameters\n",
    "    ----------\n",
    "    name: string\n",
    "        string containing a name\n",
    "    age: integer\n",
    "        integer number indicating an age\n",
    "    \"\"\"\n",
    "    print(\"Hello, my name is {0:s} and I am {1:d} years old.\".format(name,age))"
   ]
  },
  {
   "cell_type": "code",
   "execution_count": null,
   "id": "proved-knife",
   "metadata": {},
   "outputs": [],
   "source": [
    "first_name=\"Neil\"\n",
    "years=1000\n",
    "hello(first_name,years)"
   ]
  },
  {
   "cell_type": "markdown",
   "id": "otherwise-battlefield",
   "metadata": {},
   "source": [
    "Now define a function called `hello2` that prints\n",
    "<br>\n",
    "`Hi!`\n",
    "<br>\n",
    "`I am studing <subject> at Lancaster University.`\n",
    "<br>\n",
    "The function will take the name of your degree scheme as an argument. Note that the sentence must be split into two lines."
   ]
  },
  {
   "cell_type": "code",
   "execution_count": null,
   "id": "sharp-appearance",
   "metadata": {},
   "outputs": [],
   "source": []
  },
  {
   "cell_type": "markdown",
   "id": "dutch-philadelphia",
   "metadata": {},
   "source": [
    "Let's define a function called `trigCalculation` that takes as an argument an angle and __returns__ the sine and cosine of that angle. Finally, let's print the results with only three decimal places."
   ]
  },
  {
   "cell_type": "code",
   "execution_count": null,
   "id": "twelve-honduras",
   "metadata": {},
   "outputs": [],
   "source": [
    "import math   # Import a \"module\" called \"math\" that contains various common mathematical functions.\n",
    "\n",
    "\n",
    "def trigCalculation(theta):\n",
    "    \"\"\"\n",
    "    Compute the sine and cosine of the angle theta.\n",
    "    \n",
    "    Parameters\n",
    "    ----------\n",
    "    theta: float\n",
    "        an angle in radians\n",
    "        \n",
    "    Returns\n",
    "    -------\n",
    "    sin_theta, cos_theta: float\n",
    "         sine and cosine of the angle theta\n",
    "    \"\"\"\n",
    "    sin_theta=math.sin(theta)\n",
    "    cos_theta=math.cos(theta)\n",
    "    return sin_theta,cos_theta"
   ]
  },
  {
   "cell_type": "code",
   "execution_count": null,
   "id": "dependent-synthetic",
   "metadata": {},
   "outputs": [],
   "source": [
    "alpha=math.pi*0.25\n",
    "sin_alpha,cos_alpha=trigCalculation(alpha)\n",
    "print(\"The sine and cosine of {0:.3f} are {1:.3f} and {2:.3f}, respectively.\".format(alpha,sin_alpha,cos_alpha))"
   ]
  },
  {
   "cell_type": "markdown",
   "id": "silver-bacteria",
   "metadata": {},
   "source": [
    "Now define a function called myTrigCalculations that computes and returns the cotangent of a given angle passed as an argument."
   ]
  },
  {
   "cell_type": "code",
   "execution_count": null,
   "id": "supreme-calibration",
   "metadata": {},
   "outputs": [],
   "source": []
  },
  {
   "cell_type": "markdown",
   "id": "43592336",
   "metadata": {},
   "source": [
    "## Creating lists and NumPy arrays"
   ]
  },
  {
   "cell_type": "markdown",
   "id": "incomplete-voluntary",
   "metadata": {},
   "source": [
    "Let's write a small code that goes through the elements of a list _a_ containing twenty uniformly distributed random numbers between -2 and 1 and creates a new list _b_ containing only elements from _a_ that are greater than 0. Our code will finallly print the new list _b_ and print its length."
   ]
  },
  {
   "cell_type": "code",
   "execution_count": null,
   "id": "square-ballet",
   "metadata": {},
   "outputs": [],
   "source": [
    "import numpy as np # NumPy is a much more heavyweight maths module than math.\n",
    "\n",
    "rng=np.random.default_rng(10) # Choose a particular \"seed\" for the pseudorandom number generator.\n",
    "\n",
    "a=[]  # Empty list a that we need to populate with twenty uniformly distributed random numbers.\n",
    "b=[]  # Empty list b that will contain positive elements from a.\n",
    "n=20  # Number of elements in list a.\n",
    "\n",
    "# Create list a.  The variable _i takes values 0, 1, ..., n-1.\n",
    "for _i in range(n):\n",
    "    num=-2.0+3.0*rng.uniform() # A single random number between -2 and 1.\n",
    "    a.append(num)\n",
    "\n",
    "# Create list b by looping over the elements of a and checking whether they are positive.\n",
    "for j in range(n):\n",
    "    if a[j]>0:\n",
    "        b.append(a[j])\n",
    "\n",
    "print(\"New list b: \",b)\n",
    "print(\"The length of list b is {0:d}.\".format(len(b)))"
   ]
  },
  {
   "cell_type": "markdown",
   "id": "together-fellowship",
   "metadata": {},
   "source": [
    "The code above uses for loops, and is similar to the way in which one might write the program in languages such as C.  However, in Python, using NumPy arrays and array syntax make the code shorter and faster."
   ]
  },
  {
   "cell_type": "code",
   "execution_count": null,
   "id": "african-router",
   "metadata": {},
   "outputs": [],
   "source": [
    "import numpy as np  # Actually this is redundant, because we imported NumPy in the previous cell.\n",
    "\n",
    "rng=np.random.default_rng(10) # Use same seed as before, so we get the same pseudorandom numbers.\n",
    "\n",
    "c=rng.uniform(-2.0,1.0,20) # Generate an array of 20 random numbers at once.\n",
    "d=c[c>0.0] # Array d consists of elements of c such that they are greater than 0.\n",
    "\n",
    "print(\"New array d: \",d)\n",
    "print(\"The length of array d is {0:d}.\".format(len(d)))"
   ]
  },
  {
   "cell_type": "markdown",
   "id": "shaped-particular",
   "metadata": {},
   "source": [
    "Now write a small program that defines list _a_ containing fifty uniformly distributed random numbers between -5 and 5.  The program should then call two functions `my_ave` and `my_std`, which take the list _a_ as input and return its mean and its standard deviation.  Do not use NumPy except for generating random numbers."
   ]
  },
  {
   "cell_type": "code",
   "execution_count": null,
   "id": "blocked-white",
   "metadata": {},
   "outputs": [],
   "source": []
  },
  {
   "cell_type": "markdown",
   "id": "spatial-contents",
   "metadata": {},
   "source": [
    "Now use NumPy functions to test your code."
   ]
  },
  {
   "cell_type": "code",
   "execution_count": null,
   "id": "fixed-program",
   "metadata": {},
   "outputs": [],
   "source": []
  }
 ],
 "metadata": {
  "kernelspec": {
   "display_name": "Python 3 (ipykernel)",
   "language": "python",
   "name": "python3"
  },
  "language_info": {
   "codemirror_mode": {
    "name": "ipython",
    "version": 3
   },
   "file_extension": ".py",
   "mimetype": "text/x-python",
   "name": "python",
   "nbconvert_exporter": "python",
   "pygments_lexer": "ipython3",
   "version": "3.11.4"
  }
 },
 "nbformat": 4,
 "nbformat_minor": 5
}
