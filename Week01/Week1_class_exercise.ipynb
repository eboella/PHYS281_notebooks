{
 "cells": [
  {
   "cell_type": "markdown",
   "id": "native-wagner",
   "metadata": {},
   "source": [
    "# Week 1"
   ]
  },
  {
   "cell_type": "markdown",
   "id": "original-pencil",
   "metadata": {},
   "source": [
    "Let's define a function called `hello` that prints\n",
    "<br>\n",
    "`Hello, my name is <name> and I am <age> years old.`\n",
    "<br>\n",
    "Name and age will be passed as argument of the function."
   ]
  },
  {
   "cell_type": "code",
   "execution_count": null,
   "id": "cubic-guess",
   "metadata": {},
   "outputs": [],
   "source": [
    "def hello(name,age):\n",
    "    \"\"\"\n",
    "    Print a sentence.\n",
    "    \n",
    "    Paramters\n",
    "    ---------\n",
    "    name: string\n",
    "        string containing your name\n",
    "    age: integer\n",
    "        integer number indicating your age\n",
    "    \"\"\"\n",
    "    print(\"Hello, my name is {0:s} and I am {1:d} years old.\".format(name,age))"
   ]
  },
  {
   "cell_type": "code",
   "execution_count": null,
   "id": "proved-knife",
   "metadata": {},
   "outputs": [],
   "source": [
    "first_name=\"Neil\"\n",
    "years=100\n",
    "hello(first_name,years)"
   ]
  },
  {
   "cell_type": "markdown",
   "id": "otherwise-battlefield",
   "metadata": {},
   "source": [
    "Now define a function called `hello2` that prints\n",
    "<br>\n",
    "`Hi!`\n",
    "<br>\n",
    "`I am studing <subject> at Lancaster University.`\n",
    "<br>\n",
    "The function will take the name of your degree scheme as an argument. Note that the sentence must be split in two lines."
   ]
  },
  {
   "cell_type": "code",
   "execution_count": null,
   "id": "sharp-appearance",
   "metadata": {},
   "outputs": [],
   "source": []
  },
  {
   "cell_type": "markdown",
   "id": "dutch-philadelphia",
   "metadata": {},
   "source": [
    "Let's define a function called `trigCalculation` that takes as an argument the sine of an angle, computes the angle and __returns__ the angle and the cosine of that angle. Finally, let's print the results with only three decimal places."
   ]
  },
  {
   "cell_type": "code",
   "execution_count": null,
   "id": "twelve-honduras",
   "metadata": {},
   "outputs": [],
   "source": [
    "import math\n",
    "\n",
    "\n",
    "def trigCalculation(sin_theta):\n",
    "    \"\"\"\n",
    "    Compute an angle and the cosine of the angle.\n",
    "    \n",
    "    Paramters\n",
    "    ---------\n",
    "    sin_theta: float\n",
    "        sine of an angle\n",
    "        \n",
    "    Returns\n",
    "    -------\n",
    "    theta, cos_theta: float\n",
    "         angle and cosine of the angle\n",
    "    \"\"\"\n",
    "    theta=math.asin(sin_theta)\n",
    "    cos_theta=math.cos(theta)\n",
    "    return theta,cos_theta"
   ]
  },
  {
   "cell_type": "code",
   "execution_count": null,
   "id": "dependent-synthetic",
   "metadata": {},
   "outputs": [],
   "source": [
    "sin_alpha=1.0\n",
    "alpha,cos_alpha=trigCalculation(sin_alpha)\n",
    "print(\"The arcsin of {0:.3f} is {1:.3f} and its cosine is {2:.3f}\".format(sin_alpha,alpha,cos_alpha))"
   ]
  },
  {
   "cell_type": "markdown",
   "id": "silver-bacteria",
   "metadata": {},
   "source": [
    "Now define a function called myTrigCalculations that computes and returns the cotangent of a given angle passed as an argument."
   ]
  },
  {
   "cell_type": "code",
   "execution_count": null,
   "id": "supreme-calibration",
   "metadata": {},
   "outputs": [],
   "source": []
  },
  {
   "cell_type": "markdown",
   "id": "incomplete-voluntary",
   "metadata": {},
   "source": [
    "Let's write a small code that goes through the elements of a list _a_ containing twenty uniformly distributed random numbers between -2 and 1 and creates a new list _b_ containing only elements from _a_ that are greater than 0. Our code will finallly print the new list _b_ and print its length."
   ]
  },
  {
   "cell_type": "code",
   "execution_count": null,
   "id": "square-ballet",
   "metadata": {},
   "outputs": [],
   "source": [
    "import numpy as np\n",
    "\n",
    "np.random.seed(10)\n",
    "\n",
    "a = []  #empty list a that we need to populate with twenty uniformely distributed random numbers\n",
    "b = []  #empty list b that will contain elements > 0 from a\n",
    "n = 20  #number of elements\n",
    "\n",
    "#creating a list a\n",
    "for i in range(0,n):\n",
    "    num = -2 + (1 - (-2)) * np.random.rand()\n",
    "    a.append(num)\n",
    "\n",
    "#creating a list b\n",
    "for j in range(0,len(a)):\n",
    "    if a[j] > 0:\n",
    "        b.append(a[j])\n",
    "\n",
    "print(\"The new list b is\", b,\"\\nIts length is \", len(b))"
   ]
  },
  {
   "cell_type": "markdown",
   "id": "together-fellowship",
   "metadata": {},
   "source": [
    "We wanted to learn to use for loop, however using numpy arrays and array syntax would have made our life simpler."
   ]
  },
  {
   "cell_type": "code",
   "execution_count": null,
   "id": "african-router",
   "metadata": {},
   "outputs": [],
   "source": [
    "import numpy as np \n",
    "#We do not realy need this since it is imported before,\n",
    "#but let's import numpy to have a stand alone code.\n",
    "\n",
    "np.random.seed(10)\n",
    "\n",
    "#Also remember this cell will \"remember\" the variable defined before, so let's call our array a and b, c and d instead\n",
    "c = -2 + (1 - (-2)) * np.random.rand(20)\n",
    "\n",
    "d = c[c > 0]\n",
    "\n",
    "print(\"The new array d is\", d,\"\\nIt's length is \", len(d))"
   ]
  },
  {
   "cell_type": "markdown",
   "id": "irish-valentine",
   "metadata": {},
   "source": [
    "Why we need this instruction: np.random.seed(10)? What happens if we remove it?"
   ]
  },
  {
   "cell_type": "markdown",
   "id": "shaped-particular",
   "metadata": {},
   "source": [
    "Now write a small code that defines a new list a containing fifty uniformely distributed random numbers between -5 and 5. The code will then call two functions my_ave and my_std, which take the list a as imput and return its average and its standard deviation. Do not use numpy unless for generating random numbers."
   ]
  },
  {
   "cell_type": "code",
   "execution_count": null,
   "id": "blocked-white",
   "metadata": {},
   "outputs": [],
   "source": []
  },
  {
   "cell_type": "markdown",
   "id": "spatial-contents",
   "metadata": {},
   "source": [
    "Now check using inbuilt numpy methods if your code is correct."
   ]
  },
  {
   "cell_type": "code",
   "execution_count": null,
   "id": "fixed-program",
   "metadata": {},
   "outputs": [],
   "source": []
  }
 ],
 "metadata": {
  "kernelspec": {
   "display_name": "Python 3 (ipykernel)",
   "language": "python",
   "name": "python3"
  },
  "language_info": {
   "codemirror_mode": {
    "name": "ipython",
    "version": 3
   },
   "file_extension": ".py",
   "mimetype": "text/x-python",
   "name": "python",
   "nbconvert_exporter": "python",
   "pygments_lexer": "ipython3",
   "version": "3.11.4"
  }
 },
 "nbformat": 4,
 "nbformat_minor": 5
}
