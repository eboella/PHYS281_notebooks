{
 "cells": [
  {
   "cell_type": "markdown",
   "id": "dimensional-luther",
   "metadata": {},
   "source": [
    "# Week 5"
   ]
  },
  {
   "cell_type": "markdown",
   "id": "mysterious-nurse",
   "metadata": {},
   "source": [
    "In this notebook, we will import data from `results.txt` enclosing two columns: the frist column contains values of laser intensity, while the second column contains values of proton energies.\n",
    "Let's write a small code to read and plot the data."
   ]
  },
  {
   "cell_type": "code",
   "execution_count": null,
   "id": "differential-buyer",
   "metadata": {},
   "outputs": [],
   "source": [
    "import numpy as np\n",
    "from matplotlib import pyplot as plt\n",
    "\n",
    "# definition of arrays where data from the txt file will be stored\n",
    "intensity = []\n",
    "energy = []\n",
    "\n",
    "# read txt file line by line\n",
    "with open(\"results.txt\") as f:\n",
    "    next(f) # skip first line\n",
    "    for line in f:\n",
    "        [a, b] = line.split(\",\")\n",
    "        intensity.append(float(a))\n",
    "        energy.append(float(b.rstrip(\"\\n\")))\n",
    "\n",
    "intensity = np.array(intensity)\n",
    "energy = np.array(energy)\n",
    "\n",
    "# plot data\n",
    "plt.plot(intensity/1e21, energy, 'ro', label = \"data\")\n",
    "plt.xlabel(\"I [10$^{21}$ W/cm$^2$]\", fontsize=20)\n",
    "plt.ylabel(\"$\\epsilon$ [MeV]\", fontsize=20)\n",
    "plt.legend(fontsize=20)\n",
    "plt.tick_params(labelsize=20)\n",
    "plt.show()"
   ]
  },
  {
   "cell_type": "markdown",
   "id": "dominant-arrest",
   "metadata": {},
   "source": [
    "The data follow on a line. Let's fit the data with a polynomial of order 1 (a straight line) using `numpy.polyfit`."
   ]
  },
  {
   "cell_type": "code",
   "execution_count": null,
   "id": "studied-arrest",
   "metadata": {},
   "outputs": [],
   "source": [
    "order = 1\n",
    "c = np.polyfit(intensity, energy, order)\n",
    "print(\"Your data fit to a line with equation y = {} x + {}\".format(c[0],c[1]))"
   ]
  },
  {
   "cell_type": "markdown",
   "id": "illegal-tiffany",
   "metadata": {},
   "source": [
    "Now let's plot the data and the fitted curve, but let's do that using different `matplotlib` functionalities."
   ]
  },
  {
   "cell_type": "code",
   "execution_count": null,
   "id": "composite-window",
   "metadata": {},
   "outputs": [],
   "source": [
    "fig = plt.figure()\n",
    "fig.set_figheight(8)\n",
    "fig.set_figwidth(12)\n",
    "\n",
    "ax1 = fig.add_subplot(2,1,1)\n",
    "ax1.plot(intensity, energy, \"ro\", label=\"data\")\n",
    "ax1.set_xlabel(\"I [W/cm$^2$]\", fontsize=20)\n",
    "ax1.set_ylabel(\"$\\epsilon$ [MeV]\", fontsize=20)\n",
    "ax1.xaxis.offsetText.set_fontsize(20)\n",
    "ax1.tick_params(labelsize=20)\n",
    "ax1.legend(fontsize = 20)\n",
    "\n",
    "ax2 = fig.add_subplot(2,1,2)\n",
    "ax2.plot(intensity, energy, \"ro\", label = \"data\")\n",
    "ax2.plot(intensity, c[0] * intensity + c[1], 'k--', label = \" best fit\")\n",
    "ax2.set_xlabel(\"I [W/cm$^2$]\", fontsize=20)\n",
    "ax2.set_ylabel(\"$\\epsilon$ [MeV]\", fontsize=20)\n",
    "ax2.xaxis.offsetText.set_fontsize(20)\n",
    "ax2.tick_params(labelsize=20)\n",
    "ax2.legend(fontsize = 20)\n",
    "\n",
    "fig.tight_layout()\n",
    "plt.show()"
   ]
  },
  {
   "cell_type": "markdown",
   "id": "thick-hawaii",
   "metadata": {},
   "source": [
    "Now read the data in the file `my_experimental_results.txt`. The file contains two columns: one for the day number and the other with the recorder temperature. Plot the data and fit them with a polynomial order 3."
   ]
  }
 ],
 "metadata": {
  "kernelspec": {
   "display_name": "Python 3",
   "language": "python",
   "name": "python3"
  },
  "language_info": {
   "codemirror_mode": {
    "name": "ipython",
    "version": 3
   },
   "file_extension": ".py",
   "mimetype": "text/x-python",
   "name": "python",
   "nbconvert_exporter": "python",
   "pygments_lexer": "ipython3",
   "version": "3.7.3"
  }
 },
 "nbformat": 4,
 "nbformat_minor": 5
}
