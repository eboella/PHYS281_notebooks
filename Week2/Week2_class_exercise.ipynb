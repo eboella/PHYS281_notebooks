{
 "cells": [
  {
   "cell_type": "markdown",
   "id": "7d5ab3f4",
   "metadata": {},
   "source": [
    "EXAMPLE 1: Write a function that takes a list of strings as an argument and returns True if any of the strings are repeated and False otherwise."
   ]
  },
  {
   "cell_type": "code",
   "execution_count": null,
   "id": "1322eecd",
   "metadata": {},
   "outputs": [],
   "source": [
    "def contains_duplicates(strings):\n",
    "    \"\"\"Return True if and only if the list strings contains repeated items.\"\"\"\n",
    "    return len(set(strings))<len(strings)\n",
    "\n",
    "# Using set to eliminate duplicates is a Python-specific trick.  Can you do the exercise without using this trick?\n",
    "\n",
    "print(contains_duplicates([\"banana\",\"giraffe\",\"bandersnatch\"]))\n",
    "\n",
    "print(contains_duplicates([\"goose\",\"turkey\",\"spider\",\"turkey\",\"boojum\"]))"
   ]
  },
  {
   "cell_type": "markdown",
   "id": "fcc265a3",
   "metadata": {},
   "source": [
    "EXAMPLE 2: Write a function that takes a list of integers and returns a list consisting of those integers that are square numbers, sorted in ascending order."
   ]
  },
  {
   "cell_type": "code",
   "execution_count": null,
   "id": "de346716",
   "metadata": {},
   "outputs": [],
   "source": [
    "import math\n",
    "def sq_sort(intlist):\n",
    "    \"\"\"This function takes a list of integers and returns a list consisting of those integers that are square numbers, sorted in ascending order.\"\"\"\n",
    "# As of Python 3.8, int(math.sqrt(x)+0.5) can be replaced by math.isqrt.\n",
    "    return sorted([x for x in intlist if int(math.sqrt(x)+0.5)**2==x])\n",
    "\n",
    "sq_sort([42,36,2,3,7,8,9,12,15,16,17])"
   ]
  },
  {
   "cell_type": "markdown",
   "id": "4f963683",
   "metadata": {},
   "source": [
    "EXAMPLE 3(a): Write a program that uses the Newton-Raphson method to evaluate sqrt(17)."
   ]
  },
  {
   "cell_type": "code",
   "execution_count": null,
   "id": "0bc09a57",
   "metadata": {},
   "outputs": [],
   "source": [
    "# x=sqrt(17) <=> x^2-17=0 and x>0.  Solve f(x)=0 numerically, where f(x)=x^2-17.\n",
    "# Newton-Raphson iteration: x_{n+1}=x_n-f(x_n)/f'(x_n).\n",
    "# In this case, f'(x)=2x.\n",
    "# So N-R scheme is x_{n+1} = x_n - (x_n^2-17)/(2x_n) = x_n/2+8.5/x_n.\n",
    "\n",
    "# First guess (since 17~=16):\n",
    "x=4.0\n",
    "\n",
    "# Carry out the N-R iteration.  It converges quadratically, and hence the stopping criterion can\n",
    "# be a very severe test of whether subsequent x values are the same.\n",
    "xp=-1.0 # \"Previous\" value of x.\n",
    "while abs(x-xp)>5.E-16*abs(x):\n",
    "    xp=x\n",
    "    x=0.5*x+8.5/x\n",
    "\n",
    "print(\"The square root of 17 is x={0:.16g}.  As a sanity check, x^2={1:.16g}.\".format(x,x**2))"
   ]
  },
  {
   "cell_type": "markdown",
   "id": "4e3dbe82",
   "metadata": {},
   "source": [
    "EXAMPLE 3(b): Write a function that takes functions f(x) and fprime(x) and an initial guess x0 as arguments, then uses the Newton-Raphson method to find a root of f(x).  Check that the method works for examples such as f(x)=sin(x)."
   ]
  },
  {
   "cell_type": "code",
   "execution_count": null,
   "id": "63c7be38",
   "metadata": {},
   "outputs": [],
   "source": []
  },
  {
   "cell_type": "markdown",
   "id": "f2e525b3",
   "metadata": {},
   "source": [
    "EXAMPLE 4: Write programs that read in a list of English words from the file \"words\" and report (i) the number of words of length 1, 2, 3, 4, ...; (ii) the frequency of each letter in the entire list of words (i.e., what fraction of letters are \"a\"s, what fraction are \"b\"s, ...); (iii) the frequency with which each letter is the first letter in a word."
   ]
  },
  {
   "cell_type": "code",
   "execution_count": null,
   "id": "dfbecbc8",
   "metadata": {},
   "outputs": [],
   "source": [
    "# Read words from file words. Convert everything to lower case.  Remove apostrophes.  Eliminate duplicates.\n",
    "# Tuples are faster to loop over than sets (although it is faster to check whether a given item is in a set).\n",
    "with open(\"words\") as f:\n",
    "    words=tuple(set(f.read().lower().replace(\"'\",\"\").splitlines()))\n",
    "\n",
    "# (You might want to recycle the above when trying exercises (ii) and (iii).\n",
    "# But please also make sure you understand how it works)\n",
    "    \n",
    "# Make a dictionary of the number of words of each length.\n",
    "nlengths={}\n",
    "for word in words:\n",
    "    lw=len(word)\n",
    "    if lw in nlengths:\n",
    "        nlengths[lw]+=1\n",
    "    else:\n",
    "        nlengths[lw]=1\n",
    "\n",
    "# Report.\n",
    "for lw in sorted(nlengths.keys()):\n",
    "    print(\"Number of words of length {0:2d}:  {1:d}\".format(lw,nlengths[lw]))"
   ]
  },
  {
   "cell_type": "code",
   "execution_count": null,
   "id": "6f95bea3",
   "metadata": {},
   "outputs": [],
   "source": []
  },
  {
   "cell_type": "code",
   "execution_count": null,
   "id": "22af13e1",
   "metadata": {},
   "outputs": [],
   "source": []
  }
 ],
 "metadata": {
  "kernelspec": {
   "display_name": "Python 3.10.4 64-bit",
   "language": "python",
   "name": "python3"
  },
  "language_info": {
   "codemirror_mode": {
    "name": "ipython",
    "version": 3
   },
   "file_extension": ".py",
   "mimetype": "text/x-python",
   "name": "python",
   "nbconvert_exporter": "python",
   "pygments_lexer": "ipython3",
   "version": "3.10.6"
  },
  "vscode": {
   "interpreter": {
    "hash": "e7370f93d1d0cde622a1f8e1c04877d8463912d04d973331ad4851f04de6915a"
   }
  }
 },
 "nbformat": 4,
 "nbformat_minor": 5
}
