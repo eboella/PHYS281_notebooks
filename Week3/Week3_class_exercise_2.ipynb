{
 "cells": [
  {
   "cell_type": "markdown",
   "id": "fewer-floating",
   "metadata": {},
   "source": [
    "# Week 3"
   ]
  },
  {
   "cell_type": "markdown",
   "id": "nominated-elements",
   "metadata": {},
   "source": [
    "In this notebook we are going to implement the [finite difference time domain method](https://en.wikipedia.org/wiki/Finite-difference_time-domain_method) to advance the electromagnetic field in vacuum by solving Maxwell-Faraday and Maxwell-Ampere equations. For simplicity, we consider a one-dimensional domain (e.g. field vary only along z). We will model an electromagnetic pulse travelling along z. This means that the pulse will be characterised by Ex and By."
   ]
  },
  {
   "cell_type": "markdown",
   "id": "played-treaty",
   "metadata": {},
   "source": [
    "First we import all the modules that we will need."
   ]
  },
  {
   "cell_type": "code",
   "execution_count": null,
   "id": "charged-massage",
   "metadata": {},
   "outputs": [],
   "source": [
    "import math\n",
    "from matplotlib import pyplot as plt\n",
    "from matplotlib.animation import FuncAnimation\n",
    "import numpy as np\n",
    "import copy"
   ]
  },
  {
   "cell_type": "markdown",
   "id": "tracked-audit",
   "metadata": {},
   "source": [
    "Let's define a class called `EMfield`. The class will contain:\n",
    "<br>\n",
    "- the `__init__` method to set the initial state of the object\n",
    "<br>\n",
    "- an `advanceE` method, which solve the discretised Faraday equation\n",
    "<br>\n",
    "- an `advanceB` method, which solve the discretised Ampere equation\n",
    "<br>\n",
    "- an `periodic_bs` method, which appies periodic boundary conditions to the electric field"
   ]
  },
  {
   "cell_type": "code",
   "execution_count": null,
   "id": "promising-mailman",
   "metadata": {},
   "outputs": [],
   "source": [
    "class EMfield:\n",
    "    \n",
    "    def __init__(self, Ex, By):\n",
    "        self.Ex = Ex\n",
    "        self.By = By\n",
    "        \n",
    "    def advanceE(self, cfl, N):\n",
    "\n",
    "        \"\"\"\n",
    "        advanceE\n",
    "        \n",
    "        Parameters:\n",
    "        ----------\n",
    "        cfl: float\n",
    "            cfl condition\n",
    "        N: integer\n",
    "            number of grid points\n",
    "        \"\"\"\n",
    "        \n",
    "        for i in range(1,N-1):\n",
    "            self.Ex[i] = self.Ex[i] + cfl * (self.By[i-1] - self.By[i])\n",
    "            \n",
    "    def advanceB(self, cfl, N):\n",
    "        \n",
    "        \"\"\"\n",
    "        advanceB\n",
    "        \n",
    "        Parameters:\n",
    "        ----------\n",
    "        cfl: float\n",
    "            cfl condition\n",
    "        N: integer\n",
    "            number of grid points\n",
    "        \"\"\"\n",
    "        \n",
    "        for i in range(0,N-1):\n",
    "            self.By[i] = self.By[i] + cfl * (self.Ex[i] - self.Ex[i+1])\n",
    "    \n",
    "    def periodic_bc(self, cfl, N):\n",
    "        \n",
    "        \"\"\"\n",
    "        periodic_bc\n",
    "        \n",
    "        Parameters:\n",
    "        ----------\n",
    "        cfl: float\n",
    "            cfl condition\n",
    "        N: integer\n",
    "            number of grid points\n",
    "        \"\"\"\n",
    "            \n",
    "        self.Ex[0] = self.Ex[0] + cfl * (self.By[N-2] - self.By[0])\n",
    "        self.Ex[N-1] = self.Ex[N-1] + cfl * (self.By[N-2] - self.By[0])"
   ]
  },
  {
   "cell_type": "markdown",
   "id": "proved-material",
   "metadata": {},
   "source": [
    "Now we write the main programme. Here we define the qauntities that we need (grid, grid size, time step...). We initailise Ex and By. According to the method, Ex is defined on the nodes of the grid, while By at the centre of the cell. The main programme will then contain the temporal loop to advance the fields.\n",
    "<br>\n",
    "We create a list called `data` where we store our results. In particular we store the time, the list containing the grid points, the list containing cell centre points and the object `EMfield`. We store data every 10 time iterations to reduce the size of this list. Finally we save `data` into a `.npy` file."
   ]
  },
  {
   "cell_type": "code",
   "execution_count": null,
   "id": "prescription-prisoner",
   "metadata": {},
   "outputs": [],
   "source": [
    "L = 1.0 # domain size of the simulation in normalised units\n",
    "c = 1.0 # speed of light in normalised units\n",
    "dz = 0.0025 # space discretisation\n",
    "N = int(math.ceil(L/dz)) + 1 # number of grid points\n",
    "z = [i*dz for i in range(0,N)]\n",
    "zc = [z[i]+dz/2 for i in range(0,N-1)]\n",
    "Nhalf = int(math.ceil(N/2)) # location for the electromagentic puls\n",
    "cfl = 0.99 # c*dt/dx\n",
    "dt = cfl*dz/c # time step\n",
    "Nt = 2000 # number of temporal steps\n",
    "t = 0 # initial tiime\n",
    "\n",
    "Ex = [0 for _ in range(0,N)] # electric field initialisation\n",
    "By = [0 for _ in range(0,N-1)] # magnetic field initialisation\n",
    "field = EMfield(Ex,By) # class initialisation\n",
    "\n",
    "Data = []\n",
    "\n",
    "# temporal loop to advance fields\n",
    "for i in range(0,Nt):\n",
    "    \n",
    "    print(\"Iteration {} out of {}\".format(i,Nt))\n",
    "    \n",
    "    t = t + dt\n",
    "    \n",
    "    field.advanceE(cfl,N) # solve E\n",
    "    \n",
    "    field.periodic_bc(cfl,N) # apply boundary conditions\n",
    "    \n",
    "    pulse = math.exp(-0.5 * ( (40*dt - t)/(12*dt) )**2) \n",
    "    field.Ex[Nhalf] = field.Ex[Nhalf] + pulse # add the electromagentic pulse\n",
    "    \n",
    "    field.advanceB(cfl,N) # solve B\n",
    "    \n",
    "    # store information in a list\n",
    "    if (i%10 == 0):\n",
    "        my_list = [t, z, zc, copy.deepcopy(field)]\n",
    "        Data.append(my_list)\n",
    "\n",
    "np.save(\"field\", Data, allow_pickle=True) # save list to a file called field"
   ]
  },
  {
   "cell_type": "markdown",
   "id": "respected-galaxy",
   "metadata": {},
   "source": [
    "Now let's write a small piece of code to load the data saved in the file `field.npy` and plot the content. We want to see the evolution in time of Ex(z) and By(z). So we use a special method of `matplotlib`."
   ]
  },
  {
   "cell_type": "code",
   "execution_count": null,
   "id": "grateful-boring",
   "metadata": {},
   "outputs": [],
   "source": [
    "data = np.load(\"field.npy\", allow_pickle = True) # load the file and store in a variable called data\n",
    "\n",
    "# instructions to set the figure\n",
    "fig = plt.figure(figsize=(10,10))\n",
    "ax1 = fig.add_subplot(2,1,1)\n",
    "ax1.set_xlim(0.0,1.0)\n",
    "ax1.set_ylim(-1,1)\n",
    "ax1.set_ylabel(\"$E_x$\",fontsize=20)\n",
    "ax1.tick_params(labelsize=20)\n",
    "plot1, = ax1.plot([],[],'k')\n",
    "ax2 = fig.add_subplot(2,1,2)\n",
    "ax2.set_xlim(0.0,1.0)\n",
    "ax2.set_ylim(-1,1)\n",
    "ax2.set_ylabel(\"$B_y$\",fontsize=20)\n",
    "ax2.set_xlabel(\"$z$\",fontsize=20)\n",
    "ax2.tick_params(labelsize=20)\n",
    "plot2, = ax2.plot([],[],'r')\n",
    "\n",
    "# function to set the plot\n",
    "def anim_step(i):\n",
    "\n",
    "    # unpacking information from data\n",
    "    t = data[i][0]\n",
    "    z = data[i][1]\n",
    "    zc = data[i][2]\n",
    "    ex = data[i][3].Ex\n",
    "    by = data[i][3].By\n",
    "    \n",
    "    plot1.set_data(z,ex)\n",
    "    plot2.set_data(zc,by)\n",
    "    \n",
    "    return plot1, plot2,\n",
    "\n",
    "# special instructions to show an animation\n",
    "anim = FuncAnimation(fig, anim_step, frames = 200, interval = 200, blit = True, repeat=False)\n",
    "\n",
    "from IPython.display import HTML\n",
    "HTML(anim.to_jshtml())"
   ]
  },
  {
   "cell_type": "markdown",
   "id": "crazy-powder",
   "metadata": {},
   "source": [
    "Now add a new method in `EMfield` to apply [perfect conductor boundary condtions](https://doc.comsol.com/5.5/doc/com.comsol.help.rf/rf_ug_radio_frequency.07.11.html#:~:text=Perfect%20Electric%20Conductor&text=is%20a%20special%20case%20of,a%20symmetry%20type%20boundary%20condition.https://doc.comsol.com/5.5/doc/com.comsol.help.rf/rf_ug_radio_frequency.07.11.html#:~:text=Perfect%20Electric%20Conductor&text=is%20a%20special%20case%20of,a%20symmetry%20type%20boundary%20condition.). This means that Ex is set to zero at the boundary."
   ]
  }
 ],
 "metadata": {
  "kernelspec": {
   "display_name": "Python 3",
   "language": "python",
   "name": "python3"
  },
  "language_info": {
   "codemirror_mode": {
    "name": "ipython",
    "version": 3
   },
   "file_extension": ".py",
   "mimetype": "text/x-python",
   "name": "python",
   "nbconvert_exporter": "python",
   "pygments_lexer": "ipython3",
   "version": "3.7.3"
  }
 },
 "nbformat": 4,
 "nbformat_minor": 5
}
