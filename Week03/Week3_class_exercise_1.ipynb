{
 "cells": [
  {
   "cell_type": "markdown",
   "id": "personalized-illness",
   "metadata": {},
   "source": [
    "# Week 3"
   ]
  },
  {
   "cell_type": "markdown",
   "id": "yellow-machinery",
   "metadata": {},
   "source": [
    "Let's define a class called `Vector`. The class will contain:\n",
    "<br>\n",
    "- the `__init__` method to set the initial state of the object;\n",
    "<br>\n",
    "- the `__str__` method to display an instance of the class;\n",
    "<br>\n",
    "- an `add` method, which takes a second vector as an argument and sums the two vectors;\n",
    "<br>\n",
    "- a `norm` method that computes the vector norm."
   ]
  },
  {
   "cell_type": "code",
   "execution_count": null,
   "id": "sized-lightning",
   "metadata": {},
   "outputs": [],
   "source": [
    "import math\n",
    "\n",
    "class Vector:\n",
    "    \"\"\"Class of Cartesian 3D vectors.\"\"\"\n",
    "    \n",
    "    def __init__(self,x=0.0,y=0.0,z=0.0):\n",
    "        \"\"\"Initialise a vector with Cartesian coordinates (x,y,z).  Null vector by default.\"\"\"\n",
    "        self.x=x ; self.y=y ; self.z=z\n",
    "\n",
    "    def __str__(self):\n",
    "        \"\"\"The string produced if vector self is converted to a string.\"\"\"\n",
    "        return \"({}, {}, {})\".format(self.x,self.y,self.z)\n",
    "    \n",
    "    def __add__(self,other):\n",
    "        \"\"\"Sum vector self and vector other, returning the sum as a vector.\"\"\"\n",
    "        x=self.x+other.x\n",
    "        y=self.y+other.y\n",
    "        z=self.z+other.z\n",
    "        return Vector(x,y,z)\n",
    "    \n",
    "    def norm(self):\n",
    "        \"\"\"Compute the norm of a vector.\"\"\"\n",
    "        return math.sqrt((self.x)**2+(self.y)**2+(self.z)**2)\n",
    "\n",
    "    def scalar(self,other):\n",
    "        \"\"\"Scalar product of vector self with vector other.\"\"\"\n",
    "        return self.x*other.x+self.y*other.y+self.z*other.z\n",
    "    \n",
    "    def cross(self,other):\n",
    "        \"\"\"Cross product of vector self with vector other.\"\"\"\n",
    "        x=self.y*other.z-self.z*other.y\n",
    "        y=-self.x*other.z+self.z*other.x\n",
    "        z=self.x*other.y-self.y*other.x\n",
    "        return Vector(x,y,z)"
   ]
  },
  {
   "cell_type": "markdown",
   "id": "equipped-stephen",
   "metadata": {},
   "source": [
    "Now let's initiate two instances of the class `Vector`: `v1` and `v2`. Let's display `v1` and `v2`, then compute their norm and their sum using the methods defined in the class. "
   ]
  },
  {
   "cell_type": "code",
   "execution_count": null,
   "id": "sound-highland",
   "metadata": {},
   "outputs": [],
   "source": [
    "v1=Vector(0.2,-2.0,0.8)\n",
    "v2=Vector(0.2,0.2,0.2)\n",
    "print(\"Vector v1 is {0:s}.\".format(str(v1)))\n",
    "print(\"Vector v2 is {0:s}.\".format(str(v2)))\n",
    "v1norm=v1.norm()\n",
    "v2norm=v2.norm()\n",
    "v3=v1+v2\n",
    "print(\"The norm of v1 is {0:.2f}\".format(v1norm))\n",
    "print(\"The norm of v2 is {0:.2f}\".format(v2norm))\n",
    "print(v3)\n",
    "print(\"The sum of v1 and v2 is {0:s}.\".format(str(v3)))\n",
    "v4=v1.scalar(v2)\n",
    "print(\"The scalar product of v1 and v2 is {0:.8g}\".format(v4))\n",
    "v5=v1.cross(v2)\n",
    "print(\"The cross product of v1 and v2 is {0:s}.\".format(str(v5)))"
   ]
  },
  {
   "cell_type": "markdown",
   "id": "scenic-miller",
   "metadata": {},
   "source": [
    "Add the methods `scalar` and `cross` to the `Vector` class to compute the scalar and vector product between two instances of the class. Then in the main program call these methods on `v1` and `v2` and print the results."
   ]
  },
  {
   "cell_type": "markdown",
   "id": "bearing-embassy",
   "metadata": {},
   "source": [
    "Now substitute the method `add` in a way to override the operator `+`."
   ]
  },
  {
   "cell_type": "markdown",
   "id": "clean-shaft",
   "metadata": {},
   "source": [
    "Let's define a class to define a `Square` object. The class will contain:\n",
    "<br>\n",
    "- the `__init__` method,which will set the coordinates of the 4 corners of the square\n",
    "<br>\n",
    "- the `is_a_square` method, which will check whether the points define a valid square"
   ]
  },
  {
   "cell_type": "code",
   "execution_count": null,
   "id": "square-surface",
   "metadata": {},
   "outputs": [],
   "source": [
    "import numpy as np\n",
    "\n",
    "class Square:\n",
    "    \n",
    "    \"\"\"\n",
    "    Class to define a square\n",
    "    \n",
    "    Parameters:\n",
    "    -----------\n",
    "    corners: list\n",
    "         list containing 4 couples of coordinates defining the square vertices\n",
    "    \"\"\"\n",
    "    \n",
    "    def __init__(self, corners):\n",
    "        \n",
    "        if not isinstance(corners, list):\n",
    "            raise TypeError(\"You need to pass a list containing 4 lists\")\n",
    "            \n",
    "        if not len(corners) == 4:\n",
    "            raise ValueError(\"The list must contain the coordinates of 4 corners\")\n",
    "            \n",
    "        for elem in corners:\n",
    "            if not len(elem) == 2:\n",
    "                raise ValueError(\"Each coordinates must be given by two numbers\")\n",
    "        \n",
    "        self.vertices = np.array(corners)\n",
    "        \n",
    "        if not self.is_a_square():\n",
    "            raise ValueError(\"Your list does not define a square\")\n",
    "        else:\n",
    "            print(\"Your vertices define a square\")\n",
    "        \n",
    "    def is_a_square(self):\n",
    "        \n",
    "        \"\"\"\n",
    "        Evaluate whether the vertices define a square\n",
    "        Returns:\n",
    "        --------\n",
    "        bool\n",
    "             False if the vertices do not define a square, True otherwise\n",
    "        \"\"\"\n",
    "        \n",
    "        sides = []\n",
    "        \n",
    "        for i in range(0,4):\n",
    "            dist = self.length(self.vertices[i], self.vertices[(i + 1) % 4])\n",
    "            sides.append(dist)\n",
    "            \n",
    "        if not np.allclose(sides, sides[0]):\n",
    "            return False\n",
    "        \n",
    "        dp = []\n",
    "        for i in range(0,4):\n",
    "            dp.append (self.dot_product(self.vertices[i], self.vertices[(i + 1) % 4]))\n",
    "            \n",
    "        if not np.allclose(dp, 0.):\n",
    "            return False\n",
    "        \n",
    "        return True\n",
    "                         \n",
    "    @staticmethod\n",
    "    def length(p1,p2):\n",
    "        \n",
    "        \"\"\"\n",
    "        Compute the distance between two points\n",
    "        \n",
    "        Paramters:\n",
    "        ----------\n",
    "        p1, p2: list\n",
    "             list containing the coordinates of p1 and p2\n",
    "        Returns:\n",
    "        --------\n",
    "        float\n",
    "             the distance between two points     \n",
    "        \"\"\"\n",
    "        \n",
    "        return np.sqrt((p2[0] - p1[0])**2 + (p2[1] - p1[1])**2)\n",
    "    \n",
    "    @staticmethod\n",
    "    def dot_product(p1,p2):\n",
    "        \n",
    "        \"\"\"\n",
    "        Compute the dot prodcut between two bidimensional arrays\n",
    "        \n",
    "        Paramters:\n",
    "        ----------\n",
    "        p1, p2: list\n",
    "             list containing the coordinates of p1 and p2\n",
    "        Returns:\n",
    "        --------\n",
    "        float\n",
    "             the dot product between p1 and p2     \n",
    "        \"\"\"\n",
    "        \n",
    "        return p1[0]*p2[0] + p1[1] * p2[1]\n",
    "    \n",
    "    def Perimeter(self):\n",
    "        side = self.length(self.vertices[0], self.vertices[1])\n",
    "        per = 4* side\n",
    "        return per\n",
    "        \n",
    "    def Area(self):\n",
    "        side = self.length(self.vertices[0], self.vertices[1])\n",
    "        ar = side ** 2\n",
    "        return ar"
   ]
  },
  {
   "cell_type": "markdown",
   "id": "comfortable-library",
   "metadata": {},
   "source": [
    "Now let's define an instance of the class `Square`."
   ]
  },
  {
   "cell_type": "code",
   "execution_count": null,
   "id": "important-douglas",
   "metadata": {},
   "outputs": [],
   "source": [
    "s1 = Square([[2,2],[2,-2],[-2,-2],[-2,2]])\n",
    "print(\"Perimeter = {}\".format(s1.Perimeter()))\n",
    "print(\"Area = {}\".format(s1.Area()))"
   ]
  },
  {
   "cell_type": "markdown",
   "id": "computational-algeria",
   "metadata": {},
   "source": [
    "Add the methods `Perimeter` and `Area` to the class to compute the perimeter and area of the square."
   ]
  }
 ],
 "metadata": {
  "kernelspec": {
   "display_name": "Python 3 (ipykernel)",
   "language": "python",
   "name": "python3"
  },
  "language_info": {
   "codemirror_mode": {
    "name": "ipython",
    "version": 3
   },
   "file_extension": ".py",
   "mimetype": "text/x-python",
   "name": "python",
   "nbconvert_exporter": "python",
   "pygments_lexer": "ipython3",
   "version": "3.11.4"
  }
 },
 "nbformat": 4,
 "nbformat_minor": 5
}
