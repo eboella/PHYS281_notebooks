{
 "cells": [
  {
   "cell_type": "markdown",
   "metadata": {},
   "source": [
    "EXAMPLE 1: Representing matrices as lists of lists, as done in a homework exercise.\n",
    "\n",
    "Note that in \"real life\" you should use NumPy arrays instead of lists of lists."
   ]
  },
  {
   "cell_type": "code",
   "execution_count": null,
   "metadata": {},
   "outputs": [],
   "source": [
    "# Here we will represent a 3x3 matrix as a list of lists.\n",
    "# The inner lists are the rows of the matrix.\n",
    "\n",
    "# Note that Python source code lines are assumed to be continued when brackets are open.\n",
    "# Hence the matrix A can be written in a visually obvious manner:\n",
    "A=[[11,12,13],\n",
    "   [21,22,23],\n",
    "   [31,32,33]]\n",
    "\n",
    "print(\"Matrix A as a list of lists:\")\n",
    "print(A)\n",
    "print(\"The SECOND row of matrix A (remember that Python indices start at 0):\")\n",
    "print(A[1])\n",
    "print(\"Element A_3,2:\")\n",
    "print(A[2][1])\n",
    "\n",
    "# Report the trace of A, by summing the diagonal elements.\n",
    "trA=0.0\n",
    "for i in range(len(A)):\n",
    "    trA+=A[i][i] # A[i][i] is the ith element of the ith row, where the numbering starts at 0.\n",
    "print(\"Trace of A: {0:.15g}\".format(trA))\n",
    "\n",
    "# A function to add two matrices represented as lists of lists:\n",
    "def add_matrices(A,B):\n",
    "    \"\"\"Return the sum of matrices A and B, where matrices are represented as lists of lists.\"\"\"\n",
    "    if len(A)!=len(B):\n",
    "        raise ValueError(\"Matrices A and B should have the same number of rows.\")\n",
    "    C=[] # We will place the sum of matrices in C.\n",
    "    for arow,brow in zip(A,B): # Loop over pairs of corresponding rows of A and rows of B.\n",
    "        if len(arow)!=len(brow):\n",
    "            raise ValueError(\"Matrices A and B should have the same numer of columns.\")\n",
    "        crow=[] # We will place each row of A+B in crow.\n",
    "        for aelem,belem in zip(arow,brow): # Loop over pairs of corresponding elements in arow and brow.\n",
    "            crow.append(aelem+belem)\n",
    "        C.append(crow) # Add our new row to C.\n",
    "    return C\n",
    "\n",
    "print(\"Matrix A+A as a list of lists:\")\n",
    "print(add_matrices(A,A))\n",
    "print()\n",
    "\n",
    "import numpy as np\n",
    "Anp=np.array(A) # Convert list of lists to a NumPy array.  Makes life a bit easier...\n",
    "\n",
    "print(\"Matrix A recast as a NumPy array:\")\n",
    "print(Anp)\n",
    "print(\"Second row of matrix A:\")\n",
    "print(Anp[1,:])\n",
    "print(\"Element A_3,2:\")\n",
    "print(Anp[2,1])\n",
    "print(\"Matrix 2A as a NumPy array:\")\n",
    "print(2*Anp)\n",
    "print(\"Determinant of matrix A (using NumPy): {0:.15g}\".format(np.linalg.det(Anp)))"
   ]
  },
  {
   "cell_type": "markdown",
   "metadata": {},
   "source": [
    "EXAMPLE 2: Using NumPy.\n",
    "\n",
    "In his book \"Pillow Problems\", Charles Dodgson (aka Lewis Carroll, who wrote the Alice stories) includes the following problem (no. 58):\n",
    "\n",
    "       \"Three Points are taken at random on an infinite Plane.  Find the chance of their being the vertices of an obtuse-angled Triangle.\"\n",
    "\n",
    "In this example, we will solve this problem using a few different ways of choosing the random points in finite surfaces.\n",
    "\n",
    "Initially, the code is set up to sample sets of three vertices uniformly in a square region.\n",
    "\n",
    "(i) Read through the program and try to make sense of it.\n",
    "\n",
    "(ii) Add a function three_points_in_rectangle that returns three random points uniformly distributed in a rectangle (whose aspect ratio you can choose).  Investigate whether the fraction of obtuse triangles depends on the aspect ratio of the rectangle.\n",
    "\n",
    "(iii) Add a function three_points_in_circle that returns three random points uniformly distributed in the unit circle.  Hint: sample polar coordinates (r, theta), then convert the sampled coordinates to Cartesians.  Think carefully about the distribution of radial coordinates.  No doubt googling for \"sample random points uniformly in circle\" will suggest a solution.\n",
    "\n",
    "(iv) Add functions for returning three random points on surfaces of your choice (e.g., surface of a sphere, triangular region, ...)\n",
    "\n",
    "(v) Modify the program to produce a nice table comparing the fraction of obtuse triangles in different shapes of cell.  Are your results sufficiently precise that you can draw conclusions?  What are your conclusions regarding Charles Dodgson's original problem?"
   ]
  },
  {
   "cell_type": "code",
   "execution_count": null,
   "metadata": {},
   "outputs": [],
   "source": [
    "import numpy as np\n",
    "\n",
    "def obtuse(r1,r2,r3):\n",
    "    \"\"\"Return True if and only if vectors r1, r2 and r3 (numpy arrays) are the vertices of an obtuse triangle.\"\"\"\n",
    "    # If a is the length of the side between vertices r1 and r2 then a^2=|r2-r1|^2=(r2-r1).(r2-r1).  Similarly for the other two sides, of length b and c.\n",
    "    asq=(r2-r1).dot(r2-r1) ; bsq=(r3-r1).dot(r3-r1) ; csq=(r3-r2).dot(r3-r2)\n",
    "    # Triangle is obtuse if the cosine of any of its angles is negative.  Use the cosine rule to test this.\n",
    "    return asq+bsq<csq or bsq+csq<asq or csq+asq<bsq\n",
    "\n",
    "def three_points_in_square():\n",
    "    \"\"\"Generate three random points in the 2D unit square 0 <= x < 1, 0 <= y < 1.\"\"\"\n",
    "    return np.random.random(2),np.random.random(2),np.random.random(2) # Generate three random 2D NumPy arrays.\n",
    "\n",
    "def fraction_obtuse(nsamples=100000,three_points=three_points_in_square):\n",
    "    \"\"\"Return the fraction of sampled triangles that are obtuse, where nsamples is the number of samples and three_points is the name of a function that chooses three random points.\"\"\"\n",
    "    nobtuse=0\n",
    "    for _i in range(nsamples):\n",
    "        r1,r2,r3=three_points()      # Sample the vertices of a triangle.\n",
    "        nobtuse+=obtuse(r1,r2,r3)    # This uses a trick: True=1 and False=0.\n",
    "    p=float(nobtuse)/float(nsamples) # Fraction of triangles that are obtuse.\n",
    "    errp=np.sqrt(p*(1.0-p)/nsamples) # Approximate binomial distribution as normal distribution to estimate error in p.\n",
    "    return p,errp\n",
    "\n",
    "p,errp=fraction_obtuse()\n",
    "print(\"Fraction of obtuse triangles: {0:.8f} +/- {1:.8f}\".format(p,errp))"
   ]
  }
 ],
 "metadata": {
  "kernelspec": {
   "display_name": "Python 3 (ipykernel)",
   "language": "python",
   "name": "python3"
  },
  "language_info": {
   "codemirror_mode": {
    "name": "ipython",
    "version": 3
   },
   "file_extension": ".py",
   "mimetype": "text/x-python",
   "name": "python",
   "nbconvert_exporter": "python",
   "pygments_lexer": "ipython3",
   "version": "3.10.6"
  },
  "vscode": {
   "interpreter": {
    "hash": "e7370f93d1d0cde622a1f8e1c04877d8463912d04d973331ad4851f04de6915a"
   }
  }
 },
 "nbformat": 4,
 "nbformat_minor": 2
}
