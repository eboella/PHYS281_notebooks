{
 "cells": [
  {
   "cell_type": "markdown",
   "metadata": {},
   "source": [
    "In his book \"Pillow Problems\", Charles Dodgson (aka Lewis Carroll, who wrote the Alice stories) includes the following problem (no. 58):\n",
    "\n",
    "       \"Three Points are taken at random on an infinite Plane.  Find the chance of their being the vertices of an obtuse-angled Triangle.\"\n",
    "\n",
    "In this example, we will solve this problem using a few different ways of choosing the random points in finite surfaces.\n",
    "\n",
    "Initially, the code is set up to sample sets of three vertices uniformly in a square region.\n",
    "\n",
    "(i) Read through the program and try to make sense of it.\n",
    "\n",
    "(ii) Add a function three_points_in_rectangle that returns three random points uniformly distributed in a rectangle (whose aspect ratio you can choose).  Investigate whether the fraction of obtuse triangles depends on the aspect ratio of the rectangle.\n",
    "\n",
    "(iii) Add a function three_points_in_circle that returns three random points uniformly distributed in the unit circle.  Hint: sample polar coordinates (r, theta), then convert the sampled coordinates to Cartesians.  Think carefully about the distribution of radial coordinates.  No doubt googling for \"sample random points uniformly in circle\" will suggest a solution.\n",
    "\n",
    "(iv) Add functions for returning three random points on surfaces of your choice (e.g., surface of a sphere, triangular region, ...)\n",
    "\n",
    "(v) Modify the program to produce a nice table comparing the fraction of obtuse triangles in different shapes of cell.  Are your results sufficiently precise that you can draw conclusions?  What are your conclusions regarding Charles Dodgson's original problem?"
   ]
  },
  {
   "cell_type": "code",
   "execution_count": null,
   "metadata": {},
   "outputs": [],
   "source": [
    "import numpy as np\n",
    "\n",
    "def obtuse(r1,r2,r3):\n",
    "    \"\"\"Return True if and only if vectors r1, r2 and r3 (numpy arrays) are the vertices of an obtuse triangle.\"\"\"\n",
    "    # If a is the length of the side between vertices r1 and r2 then a^2=|r2-r1|^2=(r2-r1).(r2-r1).  Similarly for the other two sides, of length b and c.\n",
    "    asq=(r2-r1).dot(r2-r1) ; bsq=(r3-r1).dot(r3-r1) ; csq=(r3-r2).dot(r3-r2)\n",
    "    # Triangle is obtuse if the cosine of any of its angles is negative.  Use the cosine rule to test this.\n",
    "    return asq+bsq<csq or bsq+csq<asq or csq+asq<bsq\n",
    "\n",
    "def three_points_in_square():\n",
    "    \"\"\"Generate three random points in the 2D unit square 0 <= x < 1, 0 <= y < 1.\"\"\"\n",
    "    return np.random.random(2),np.random.random(2),np.random.random(2)\n",
    "\n",
    "def fraction_obtuse(nsamples=100000,three_points=three_points_in_square):\n",
    "    \"\"\"Return the fraction of sampled triangles that are obtuse, where nsamples is the number of samples and three_points is the name of a function that chooses three random points.\"\"\"\n",
    "    nobtuse=0\n",
    "    for _i in range(nsamples):\n",
    "        r1,r2,r3=three_points()      # Sample the vertices of a triangle.\n",
    "        nobtuse+=obtuse(r1,r2,r3)    # This uses a trick: True=1 and False=0.\n",
    "    p=float(nobtuse)/float(nsamples) # Fraction of triangles that are obtuse.\n",
    "    errp=np.sqrt(p*(1.0-p)/nsamples) # Approximate binomial distribution as normal distribution to estimate error in p.\n",
    "    return p,errp\n",
    "\n",
    "p,errp=fraction_obtuse()\n",
    "print(\"Fraction of obtuse triangles: {0:.8f} +/- {1:.8f}\".format(p,errp))"
   ]
  }
 ],
 "metadata": {
  "kernelspec": {
   "display_name": "Python 3.10.6 64-bit",
   "language": "python",
   "name": "python3"
  },
  "language_info": {
   "codemirror_mode": {
    "name": "ipython",
    "version": 3
   },
   "file_extension": ".py",
   "mimetype": "text/x-python",
   "name": "python",
   "nbconvert_exporter": "python",
   "pygments_lexer": "ipython3",
   "version": "3.10.6"
  },
  "orig_nbformat": 4,
  "vscode": {
   "interpreter": {
    "hash": "e7370f93d1d0cde622a1f8e1c04877d8463912d04d973331ad4851f04de6915a"
   }
  }
 },
 "nbformat": 4,
 "nbformat_minor": 2
}
